{
 "cells": [
  {
   "attachments": {},
   "cell_type": "markdown",
   "metadata": {},
   "source": [
    "## Import functions"
   ]
  },
  {
   "cell_type": "code",
   "execution_count": 12,
   "metadata": {},
   "outputs": [],
   "source": [
    "import pandas as  pd\n",
    "from sklearn.metrics import mean_squared_error\n",
    "from hyperopt import STATUS_OK, Trials, fmin, hp, tpe\n",
    "from hyperopt.pyll import scope\n",
    "import numpy as np\n",
    "import seaborn as sns\n",
    "import matplotlib.pyplot as plt\n",
    "import mlflow\n",
    "from dotenv import load_dotenv\n",
    "import os\n",
    "import warnings\n",
    "from numpy.typing import ArrayLike\n",
    "import xgboost as xgb\n",
    "warnings.filterwarnings('ignore')"
   ]
  },
  {
   "cell_type": "code",
   "execution_count": 13,
   "metadata": {},
   "outputs": [
    {
     "name": "stdout",
     "output_type": "stream",
     "text": [
      "mlflow = 2.3.2\n",
      "numpy = 1.24.3\n",
      "pandas = 2.0.2\n",
      "xgboost = 1.7.5\n"
     ]
    }
   ],
   "source": [
    "print(\"mlflow =\",mlflow.__version__)\n",
    "print(\"numpy =\",np.__version__)\n",
    "print(\"pandas =\",pd.__version__)\n",
    "print(\"xgboost =\",xgb.__version__)"
   ]
  },
  {
   "attachments": {},
   "cell_type": "markdown",
   "metadata": {},
   "source": [
    "## Import local functions"
   ]
  },
  {
   "cell_type": "code",
   "execution_count": 14,
   "metadata": {},
   "outputs": [],
   "source": [
    "from utils.preprocessing import read, preprocessing, transform\n"
   ]
  },
  {
   "attachments": {},
   "cell_type": "markdown",
   "metadata": {},
   "source": [
    "# Setup  MLflow\n",
    "\n",
    "run local:\n",
    "```\n",
    "mlflow server --backend-store-uri sqlite:///mlflow.db --default-artifact-root ./mlflow/artifacts --host 0.0.0.0 -p 4600\n",
    "```\n",
    "\n",
    "run production:\n",
    "```\n",
    "run mlflow server --backend-store-uri postgresql://{USER_NAME}:{PASSWORD}@{HOST}:5432/{DATABASE_NAME} --default-artifact-root s3://{S3_BUCKET_NAME} -p 5000 -h 0.0.0.0\n",
    "```"
   ]
  },
  {
   "cell_type": "code",
   "execution_count": 15,
   "metadata": {},
   "outputs": [],
   "source": [
    "load_dotenv()\n",
    "\n",
    "TRACKING_URI = os.getenv(\"TRACKING_URI\")\n",
    "EXPERIMENT_NAME = \"california_housing_collaborative\"\n",
    "\n",
    "mlflow.set_tracking_uri(TRACKING_URI)\n",
    "mlflow.set_experiment(EXPERIMENT_NAME)\n",
    "mlflow.xgboost.autolog()"
   ]
  },
  {
   "attachments": {},
   "cell_type": "markdown",
   "metadata": {},
   "source": [
    "# Optimization function"
   ]
  },
  {
   "cell_type": "code",
   "execution_count": 17,
   "metadata": {},
   "outputs": [],
   "source": [
    "target = 'median_house_value'\n",
    "numerical = ['longitude', 'latitude', 'housing_median_age', 'total_rooms',\n",
    "       'total_bedrooms', 'population', 'households', 'median_income']\n",
    "categorical = ['ocean_proximity']\n",
    "\n",
    "def compare_predictions(y_values: ArrayLike, y_prediction: ArrayLike) -> plt.Figure:\n",
    "    fig, axs = plt.subplots()\n",
    "    sns.distplot(y_prediction, label='Prediction')\n",
    "    sns.distplot(y_values, label='Actual')\n",
    "    plt.legend()\n",
    "    plt.title('Comparison of Predicted Values and Actual Values')\n",
    "    plt.xlabel('Values')\n",
    "    plt.ylabel('Density')\n",
    "    return fig\n",
    "\n",
    "def run(df_train: pd.DataFrame, df_test: pd.DataFrame, num_trials=100):\n",
    "    \n",
    "    X_train = df_train.drop(columns=target)\n",
    "    X_test = df_test.drop(columns=target)\n",
    "\n",
    "    y_train = df_train[target].values\n",
    "    y_test = df_test[target].values\n",
    "\n",
    "    best_loss = float('inf')\n",
    "    best_y_pred = None\n",
    "    \n",
    "\n",
    "\n",
    "    def objective(params):\n",
    "        nonlocal best_loss, best_y_pred\n",
    "        \n",
    "        with mlflow.start_run():\n",
    "            \n",
    "            # Define customer tag\n",
    "            tags = {\"Application\": \"California Housing Prices Prediction\",\n",
    "                    \"user\": \"lucy\",\n",
    "                    \"release.version\": \"1.1.0\"}\n",
    "\n",
    "            # Set Tag\n",
    "            mlflow.set_tags(tags)\n",
    "            \n",
    "            booster = xgb.XGBRegressor(**params) \n",
    "            booster.fit(X_train, y_train)      \n",
    "            \n",
    "            y_pred_test = booster.predict(X_test)\n",
    "            y_pred_train = booster.predict(X_train)\n",
    "            \n",
    "            val_rmse = mean_squared_error(y_test, y_pred_test, squared=False)\n",
    "            test_rmse = mean_squared_error(y_train, y_pred_train, squared=False)\n",
    "\n",
    "            mlflow.log_metric(\"val_rmse\", val_rmse)\n",
    "            mlflow.log_metric(\"test_rmse\", test_rmse)\n",
    "            \n",
    "            fig = compare_predictions(y_test, y_pred_test) \n",
    "            mlflow.log_figure(fig, 'Comparison of Predicted Values and Actual Values.png')\n",
    "            \n",
    "            \n",
    "            mlflow.log_artifact('./data/preprocess/dv.pkl', artifact_path='dv.pkl')\n",
    "            mlflow.log_artifact('./data/preprocess/scaler.pkl', artifact_path='scaler.pkl')\n",
    "            \n",
    "            \n",
    "        if val_rmse < best_loss:\n",
    "            best_loss = val_rmse\n",
    "            best_y_pred = y_pred_test\n",
    "\n",
    "        return {'loss': val_rmse, 'status': STATUS_OK}\n",
    "\n",
    "    search_space = {\n",
    "        'max_depth': scope.int(hp.quniform('max_depth', 4, 10, 1)),\n",
    "        'learning_rate': hp.loguniform('learning_rate', -5, 0),\n",
    "        'reg_alpha': hp.loguniform('reg_alpha', -5, -1),\n",
    "        'reg_lambda': hp.loguniform('reg_lambda', -6, -2),\n",
    "        'min_child_weight': hp.loguniform('min_child_weight', -2, 2),\n",
    "        'gamma': hp.loguniform('gamma', -4, 0),\n",
    "        'subsample': hp.uniform('subsample', 0.6, 1.0),\n",
    "        'colsample_bytree': hp.uniform('colsample_bytree', 0.6, 1.0),\n",
    "        'objective': 'reg:squarederror',\n",
    "        'seed': 42\n",
    "    }\n",
    "\n",
    "\n",
    "    rstate = np.random.default_rng(42)  # for reproducible results\n",
    "    fmin(\n",
    "        fn=objective,\n",
    "        space=search_space,\n",
    "        algo=tpe.suggest,\n",
    "        max_evals=num_trials,\n",
    "        trials=Trials(),\n",
    "        rstate=rstate\n",
    "    )\n",
    "\n",
    "    return best_y_pred, y_test\n",
    "\n"
   ]
  },
  {
   "attachments": {},
   "cell_type": "markdown",
   "metadata": {},
   "source": [
    "# Read dataframe"
   ]
  },
  {
   "cell_type": "code",
   "execution_count": 18,
   "metadata": {},
   "outputs": [
    {
     "data": {
      "text/html": [
       "<div>\n",
       "<style scoped>\n",
       "    .dataframe tbody tr th:only-of-type {\n",
       "        vertical-align: middle;\n",
       "    }\n",
       "\n",
       "    .dataframe tbody tr th {\n",
       "        vertical-align: top;\n",
       "    }\n",
       "\n",
       "    .dataframe thead th {\n",
       "        text-align: right;\n",
       "    }\n",
       "</style>\n",
       "<table border=\"1\" class=\"dataframe\">\n",
       "  <thead>\n",
       "    <tr style=\"text-align: right;\">\n",
       "      <th></th>\n",
       "      <th>longitude</th>\n",
       "      <th>latitude</th>\n",
       "      <th>housing_median_age</th>\n",
       "      <th>total_rooms</th>\n",
       "      <th>total_bedrooms</th>\n",
       "      <th>population</th>\n",
       "      <th>households</th>\n",
       "      <th>median_income</th>\n",
       "      <th>median_house_value</th>\n",
       "      <th>ocean_proximity</th>\n",
       "    </tr>\n",
       "  </thead>\n",
       "  <tbody>\n",
       "    <tr>\n",
       "      <th>1</th>\n",
       "      <td>-122.22</td>\n",
       "      <td>37.86</td>\n",
       "      <td>21.0</td>\n",
       "      <td>7099.0</td>\n",
       "      <td>1106.0</td>\n",
       "      <td>2401.0</td>\n",
       "      <td>1138.0</td>\n",
       "      <td>8.3014</td>\n",
       "      <td>358500.0</td>\n",
       "      <td>near_bay</td>\n",
       "    </tr>\n",
       "    <tr>\n",
       "      <th>2</th>\n",
       "      <td>-122.24</td>\n",
       "      <td>37.85</td>\n",
       "      <td>52.0</td>\n",
       "      <td>1467.0</td>\n",
       "      <td>190.0</td>\n",
       "      <td>496.0</td>\n",
       "      <td>177.0</td>\n",
       "      <td>7.2574</td>\n",
       "      <td>352100.0</td>\n",
       "      <td>near_bay</td>\n",
       "    </tr>\n",
       "    <tr>\n",
       "      <th>3</th>\n",
       "      <td>-122.25</td>\n",
       "      <td>37.85</td>\n",
       "      <td>52.0</td>\n",
       "      <td>1274.0</td>\n",
       "      <td>235.0</td>\n",
       "      <td>558.0</td>\n",
       "      <td>219.0</td>\n",
       "      <td>5.6431</td>\n",
       "      <td>341300.0</td>\n",
       "      <td>near_bay</td>\n",
       "    </tr>\n",
       "    <tr>\n",
       "      <th>4</th>\n",
       "      <td>-122.25</td>\n",
       "      <td>37.85</td>\n",
       "      <td>52.0</td>\n",
       "      <td>1627.0</td>\n",
       "      <td>280.0</td>\n",
       "      <td>565.0</td>\n",
       "      <td>259.0</td>\n",
       "      <td>3.8462</td>\n",
       "      <td>342200.0</td>\n",
       "      <td>near_bay</td>\n",
       "    </tr>\n",
       "    <tr>\n",
       "      <th>5</th>\n",
       "      <td>-122.25</td>\n",
       "      <td>37.85</td>\n",
       "      <td>52.0</td>\n",
       "      <td>919.0</td>\n",
       "      <td>213.0</td>\n",
       "      <td>413.0</td>\n",
       "      <td>193.0</td>\n",
       "      <td>4.0368</td>\n",
       "      <td>269700.0</td>\n",
       "      <td>near_bay</td>\n",
       "    </tr>\n",
       "  </tbody>\n",
       "</table>\n",
       "</div>"
      ],
      "text/plain": [
       "   longitude  latitude  housing_median_age  total_rooms  total_bedrooms  \\\n",
       "1    -122.22     37.86                21.0       7099.0          1106.0   \n",
       "2    -122.24     37.85                52.0       1467.0           190.0   \n",
       "3    -122.25     37.85                52.0       1274.0           235.0   \n",
       "4    -122.25     37.85                52.0       1627.0           280.0   \n",
       "5    -122.25     37.85                52.0        919.0           213.0   \n",
       "\n",
       "   population  households  median_income  median_house_value ocean_proximity  \n",
       "1      2401.0      1138.0         8.3014            358500.0        near_bay  \n",
       "2       496.0       177.0         7.2574            352100.0        near_bay  \n",
       "3       558.0       219.0         5.6431            341300.0        near_bay  \n",
       "4       565.0       259.0         3.8462            342200.0        near_bay  \n",
       "5       413.0       193.0         4.0368            269700.0        near_bay  "
      ]
     },
     "execution_count": 18,
     "metadata": {},
     "output_type": "execute_result"
    }
   ],
   "source": [
    "raw_housing = read('housing.csv')\n",
    "raw_housing.head()\n",
    "\n"
   ]
  },
  {
   "cell_type": "code",
   "execution_count": 19,
   "metadata": {},
   "outputs": [
    {
     "data": {
      "text/plain": [
       "<Axes: ylabel='Frequency'>"
      ]
     },
     "execution_count": 19,
     "metadata": {},
     "output_type": "execute_result"
    },
    {
     "data": {
      "image/png": "[encoded data removed]",
      "text/plain": [
       "<Figure size 640x480 with 1 Axes>"
      ]
     },
     "metadata": {},
     "output_type": "display_data"
    }
   ],
   "source": [
    "raw_housing['median_house_value'].plot.hist()"
   ]
  },
  {
   "cell_type": "code",
   "execution_count": 20,
   "metadata": {},
   "outputs": [
    {
     "data": {
      "text/plain": [
       "<Axes: >"
      ]
     },
     "execution_count": 20,
     "metadata": {},
     "output_type": "execute_result"
    },
    {
     "data": {
      "image/png": "[encoded data removed]",
      "text/plain": [
       "<Figure size 640x480 with 1 Axes>"
      ]
     },
     "metadata": {},
     "output_type": "display_data"
    }
   ],
   "source": [
    "raw_housing.isnull().sum().plot.bar()"
   ]
  },
  {
   "cell_type": "code",
   "execution_count": 21,
   "metadata": {},
   "outputs": [
    {
     "data": {
      "text/plain": [
       "<Axes: xlabel='ocean_proximity'>"
      ]
     },
     "execution_count": 21,
     "metadata": {},
     "output_type": "execute_result"
    },
    {
     "data": {
      "image/png": "[encoded data removed]",
      "text/plain": [
       "<Figure size 640x480 with 1 Axes>"
      ]
     },
     "metadata": {},
     "output_type": "display_data"
    }
   ],
   "source": [
    "raw_housing.ocean_proximity.value_counts().plot.bar()"
   ]
  },
  {
   "attachments": {},
   "cell_type": "markdown",
   "metadata": {},
   "source": [
    "# Preprocessing Dataset\n",
    "* remove outliers in target value  \n",
    "* remove ocean_proximity = ocean_proximity because has rare occurrence in dataset.\n",
    "* fill na values with median."
   ]
  },
  {
   "cell_type": "code",
   "execution_count": 22,
   "metadata": {},
   "outputs": [],
   "source": [
    "preprocessing_housing = preprocessing(raw_housing)"
   ]
  },
  {
   "attachments": {},
   "cell_type": "markdown",
   "metadata": {},
   "source": [
    "# Training model, hyperparameter tuning "
   ]
  },
  {
   "cell_type": "code",
   "execution_count": 23,
   "metadata": {},
   "outputs": [],
   "source": [
    "from sklearn.model_selection import train_test_split\n",
    "\n",
    "raw_train, raw_test= train_test_split(preprocessing_housing, test_size=0.25, random_state=43,shuffle=True)"
   ]
  },
  {
   "cell_type": "code",
   "execution_count": 24,
   "metadata": {},
   "outputs": [
    {
     "data": {
      "text/plain": [
       "((14421, 10), (4807, 10))"
      ]
     },
     "execution_count": 24,
     "metadata": {},
     "output_type": "execute_result"
    }
   ],
   "source": [
    "raw_train.shape, raw_test.shape"
   ]
  },
  {
   "cell_type": "code",
   "execution_count": 26,
   "metadata": {},
   "outputs": [],
   "source": [
    "transform_train = transform(raw_train,fit=True,data_path='data/preprocess/')\n",
    "transform_test = transform(raw_test,fit=False,data_path='data/preprocess/')\n"
   ]
  },
  {
   "cell_type": "code",
   "execution_count": 27,
   "metadata": {},
   "outputs": [
    {
     "data": {
      "text/html": [
       "<div>\n",
       "<style scoped>\n",
       "    .dataframe tbody tr th:only-of-type {\n",
       "        vertical-align: middle;\n",
       "    }\n",
       "\n",
       "    .dataframe tbody tr th {\n",
       "        vertical-align: top;\n",
       "    }\n",
       "\n",
       "    .dataframe thead th {\n",
       "        text-align: right;\n",
       "    }\n",
       "</style>\n",
       "<table border=\"1\" class=\"dataframe\">\n",
       "  <thead>\n",
       "    <tr style=\"text-align: right;\">\n",
       "      <th></th>\n",
       "      <th>ocean_proximity=1h_ocean</th>\n",
       "      <th>ocean_proximity=inland</th>\n",
       "      <th>ocean_proximity=island</th>\n",
       "      <th>ocean_proximity=near_bay</th>\n",
       "      <th>ocean_proximity=near_ocean</th>\n",
       "      <th>longitude</th>\n",
       "      <th>latitude</th>\n",
       "      <th>housing_median_age</th>\n",
       "      <th>total_rooms</th>\n",
       "      <th>total_bedrooms</th>\n",
       "      <th>population</th>\n",
       "      <th>households</th>\n",
       "      <th>median_income</th>\n",
       "      <th>median_house_value</th>\n",
       "    </tr>\n",
       "  </thead>\n",
       "  <tbody>\n",
       "    <tr>\n",
       "      <th>0</th>\n",
       "      <td>0.0</td>\n",
       "      <td>0.0</td>\n",
       "      <td>0.0</td>\n",
       "      <td>0.0</td>\n",
       "      <td>1.0</td>\n",
       "      <td>-1.058667</td>\n",
       "      <td>0.889474</td>\n",
       "      <td>0.578947</td>\n",
       "      <td>0.744757</td>\n",
       "      <td>0.672515</td>\n",
       "      <td>0.669831</td>\n",
       "      <td>0.798137</td>\n",
       "      <td>0.424885</td>\n",
       "      <td>12.334470</td>\n",
       "    </tr>\n",
       "    <tr>\n",
       "      <th>1</th>\n",
       "      <td>1.0</td>\n",
       "      <td>0.0</td>\n",
       "      <td>0.0</td>\n",
       "      <td>0.0</td>\n",
       "      <td>0.0</td>\n",
       "      <td>0.104000</td>\n",
       "      <td>-0.086842</td>\n",
       "      <td>0.368421</td>\n",
       "      <td>-0.174955</td>\n",
       "      <td>-0.359649</td>\n",
       "      <td>-0.376582</td>\n",
       "      <td>-0.295031</td>\n",
       "      <td>0.914855</td>\n",
       "      <td>12.687884</td>\n",
       "    </tr>\n",
       "    <tr>\n",
       "      <th>2</th>\n",
       "      <td>0.0</td>\n",
       "      <td>0.0</td>\n",
       "      <td>0.0</td>\n",
       "      <td>0.0</td>\n",
       "      <td>1.0</td>\n",
       "      <td>0.336000</td>\n",
       "      <td>-0.386842</td>\n",
       "      <td>0.210526</td>\n",
       "      <td>-0.301977</td>\n",
       "      <td>0.093567</td>\n",
       "      <td>-0.475738</td>\n",
       "      <td>0.055901</td>\n",
       "      <td>-0.418396</td>\n",
       "      <td>12.461881</td>\n",
       "    </tr>\n",
       "    <tr>\n",
       "      <th>3</th>\n",
       "      <td>0.0</td>\n",
       "      <td>0.0</td>\n",
       "      <td>0.0</td>\n",
       "      <td>1.0</td>\n",
       "      <td>0.0</td>\n",
       "      <td>-0.992000</td>\n",
       "      <td>0.918421</td>\n",
       "      <td>1.263158</td>\n",
       "      <td>0.098262</td>\n",
       "      <td>-0.330409</td>\n",
       "      <td>-0.397679</td>\n",
       "      <td>-0.279503</td>\n",
       "      <td>0.652484</td>\n",
       "      <td>12.722784</td>\n",
       "    </tr>\n",
       "    <tr>\n",
       "      <th>4</th>\n",
       "      <td>0.0</td>\n",
       "      <td>0.0</td>\n",
       "      <td>0.0</td>\n",
       "      <td>1.0</td>\n",
       "      <td>0.0</td>\n",
       "      <td>-0.978667</td>\n",
       "      <td>0.836842</td>\n",
       "      <td>0.473684</td>\n",
       "      <td>1.888556</td>\n",
       "      <td>2.701754</td>\n",
       "      <td>0.997890</td>\n",
       "      <td>2.649068</td>\n",
       "      <td>0.296449</td>\n",
       "      <td>12.884870</td>\n",
       "    </tr>\n",
       "  </tbody>\n",
       "</table>\n",
       "</div>"
      ],
      "text/plain": [
       "   ocean_proximity=1h_ocean  ocean_proximity=inland  ocean_proximity=island  \\\n",
       "0                       0.0                     0.0                     0.0   \n",
       "1                       1.0                     0.0                     0.0   \n",
       "2                       0.0                     0.0                     0.0   \n",
       "3                       0.0                     0.0                     0.0   \n",
       "4                       0.0                     0.0                     0.0   \n",
       "\n",
       "   ocean_proximity=near_bay  ocean_proximity=near_ocean  longitude  latitude  \\\n",
       "0                       0.0                         1.0  -1.058667  0.889474   \n",
       "1                       0.0                         0.0   0.104000 -0.086842   \n",
       "2                       0.0                         1.0   0.336000 -0.386842   \n",
       "3                       1.0                         0.0  -0.992000  0.918421   \n",
       "4                       1.0                         0.0  -0.978667  0.836842   \n",
       "\n",
       "   housing_median_age  total_rooms  total_bedrooms  population  households  \\\n",
       "0            0.578947     0.744757        0.672515    0.669831    0.798137   \n",
       "1            0.368421    -0.174955       -0.359649   -0.376582   -0.295031   \n",
       "2            0.210526    -0.301977        0.093567   -0.475738    0.055901   \n",
       "3            1.263158     0.098262       -0.330409   -0.397679   -0.279503   \n",
       "4            0.473684     1.888556        2.701754    0.997890    2.649068   \n",
       "\n",
       "   median_income  median_house_value  \n",
       "0       0.424885           12.334470  \n",
       "1       0.914855           12.687884  \n",
       "2      -0.418396           12.461881  \n",
       "3       0.652484           12.722784  \n",
       "4       0.296449           12.884870  "
      ]
     },
     "execution_count": 27,
     "metadata": {},
     "output_type": "execute_result"
    }
   ],
   "source": [
    "transform_train.head()"
   ]
  },
  {
   "cell_type": "code",
   "execution_count": null,
   "metadata": {},
   "outputs": [],
   "source": [
    "best_y_pred, y_test = run(transform_train,transform_test,50)\n",
    "print()"
   ]
  },
  {
   "cell_type": "code",
   "execution_count": 30,
   "metadata": {},
   "outputs": [
    {
     "data": {
      "text/plain": [
       "<matplotlib.legend.Legend at 0x19786284810>"
      ]
     },
     "execution_count": 30,
     "metadata": {},
     "output_type": "execute_result"
    },
    {
     "data": {
      "image/png": "[encoded data removed]",
      "text/plain": [
       "<Figure size 640x480 with 1 Axes>"
      ]
     },
     "metadata": {},
     "output_type": "display_data"
    }
   ],
   "source": [
    "sns.distplot(best_y_pred, label='prediction')\n",
    "sns.distplot(y_test, label='actual')\n",
    "\n",
    "plt.legend()"
   ]
  }
 ],
 "metadata": {
  "kernelspec": {
   "display_name": "mlflow_on_aws-54ZSggmN",
   "language": "python",
   "name": "python3"
  },
  "language_info": {
   "codemirror_mode": {
    "name": "ipython",
    "version": 3
   },
   "file_extension": ".py",
   "mimetype": "text/x-python",
   "name": "python",
   "nbconvert_exporter": "python",
   "pygments_lexer": "ipython3",
   "version": "3.11.2"
  },
  "orig_nbformat": 4
 },
 "nbformat": 4,
 "nbformat_minor": 2
}
