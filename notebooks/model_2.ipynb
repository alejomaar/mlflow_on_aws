{
 "cells": [
  {
   "cell_type": "code",
   "execution_count": null,
   "metadata": {},
   "outputs": [],
   "source": [
    "TRACKING_SERVER_HOST = \"\" # fill in with the public DNS of the EC2 instance\n",
    "mlflow.set_tracking_uri(f\"http://{TRACKING_SERVER_HOST}:5000\")"
   ]
  },
  {
   "cell_type": "code",
   "execution_count": null,
   "metadata": {},
   "outputs": [],
   "source": [
    "https://www.kaggle.com/datasets/unsdsn/world-happiness"
   ]
  },
  {
   "cell_type": "code",
   "execution_count": 33,
   "metadata": {},
   "outputs": [
    {
     "data": {
      "text/plain": [
       "['standard_error',\n",
       " 'economy_gdp_per_capita',\n",
       " 'family',\n",
       " 'health_life_expectancy',\n",
       " 'freedom',\n",
       " 'trust_government_corruption',\n",
       " 'generosity',\n",
       " 'dystopia_residual',\n",
       " 'country',\n",
       " 'region']"
      ]
     },
     "execution_count": 33,
     "metadata": {},
     "output_type": "execute_result"
    }
   ],
   "source": [
    "numerical = ['standard_error', 'economy_gdp_per_capita', 'family',\n",
    "       'health_life_expectancy', 'freedom', 'trust_government_corruption',\n",
    "       'generosity', 'dystopia_residual']\n",
    "categorical = ['country', 'region']\n",
    "numerical+categorical"
   ]
  },
  {
   "cell_type": "code",
   "execution_count": 33,
   "metadata": {},
   "outputs": [],
   "source": [
    "def assign_broader_category(job_title):\n",
    "    data_engineering = [\"Data Engineer\", \"Data Analyst\", \"Analytics Engineer\", \"BI Data Analyst\", \"Business Data Analyst\", \"BI Developer\", \"BI Analyst\", \"Business Intelligence Engineer\", \"BI Data Engineer\", \"Power BI Developer\"]\n",
    "    data_scientist = [\"Data Scientist\", \"Applied Scientist\", \"Research Scientist\", \"3D Computer Vision Researcher\", \"Deep Learning Researcher\", \"AI/Computer Vision Engineer\"]\n",
    "    machine_learning = [\"Machine Learning Engineer\", \"ML Engineer\", \"Lead Machine Learning Engineer\", \"Principal Machine Learning Engineer\"]\n",
    "    data_architecture = [\"Data Architect\", \"Big Data Architect\", \"Cloud Data Architect\", \"Principal Data Architect\"]\n",
    "    management = [\"Data Science Manager\", \"Director of Data Science\", \"Head of Data Science\", \"Data Scientist Lead\", \"Head of Machine Learning\", \"Manager Data Management\", \"Data Analytics Manager\"]\n",
    "    \n",
    "    if job_title in data_engineering:\n",
    "        return \"Data Engineering\"\n",
    "    elif job_title in data_scientist:\n",
    "        return \"Data Science\"\n",
    "    elif job_title in machine_learning:\n",
    "        return \"Machine Learning\"\n",
    "    elif job_title in data_architecture:\n",
    "        return \"Data Architecture\"\n",
    "    elif job_title in management:\n",
    "        return \"Management\"\n",
    "    else:\n",
    "        return \"Other\""
   ]
  },
  {
   "cell_type": "code",
   "execution_count": 45,
   "metadata": {},
   "outputs": [],
   "source": [
    "import pandas as  pd\n",
    "from sklearn.linear_model import LinearRegression\n",
    "from sklearn.metrics import mean_squared_error\n",
    "from sklearn.feature_extraction import DictVectorizer\n",
    "from sklearn.preprocessing import RobustScaler\n",
    "import pickle\n",
    "from hyperopt import STATUS_OK, Trials, fmin, hp, tpe\n",
    "from hyperopt.pyll import scope\n",
    "from sklearn.ensemble import RandomForestRegressor\n",
    "from sklearn.linear_model import Ridge\n",
    "import numpy as np\n",
    "import xgboost as xgb\n",
    "\n",
    "\n",
    "\n",
    "target = 'salary_in_usd'\n",
    "numerical = ['remote_ratio']\n",
    "\n",
    "categorical = ['work_year','experience_level','job_title','salary_currency','employee_residence','company_location','company_size']\n",
    "\n",
    "def dump_pickle(obj, filename: str):\n",
    "    with open(filename, \"wb\") as f_out:\n",
    "        return pickle.dump(obj, f_out)\n",
    "    \n",
    "def load_pickle(filename):\n",
    "    with open(filename, \"rb\") as f_in:\n",
    "        return pickle.load(f_in)\n",
    "\n",
    "def read(filename:str)->pd.DataFrame:\n",
    "    \"Load a parquet object from the file path, returning a DataFrame.\"\n",
    "    df = pd.read_csv(f'../data/raw/{filename}')\n",
    "    df.work_year = df.work_year.astype(str) \n",
    "    \n",
    "    df['experience_level'] = df['experience_level'].replace({\n",
    "    'SE': 'Senior',\n",
    "    'EN': 'Entry level',\n",
    "    'EX': 'Executive level',\n",
    "        'MI': 'Mid/Intermediate level',\n",
    "    })\n",
    "\n",
    "    df['employment_type'] = df['employment_type'].replace({\n",
    "        'FL': 'Freelancer',\n",
    "        'CT': 'Contractor',\n",
    "        'FT' : 'Full-time',\n",
    "        'PT' : 'Part-time'\n",
    "    })\n",
    "    df['company_size'] = df['company_size'].replace({\n",
    "        'S': 'SMALL',\n",
    "        'M': 'MEDIUM',\n",
    "        'L' : 'LARGE',\n",
    "    })\n",
    "    df['remote_ratio'] = df['remote_ratio'].astype(str)\n",
    "    df['remote_ratio'] = df['remote_ratio'].replace({\n",
    "        '0': 'On-Site',\n",
    "        '50': 'Half-Remote',\n",
    "        '100' : 'Full-Remote',\n",
    "    })\n",
    "    df['job_title'] = df['job_title'].apply(assign_broader_category)\n",
    "    \n",
    "    \n",
    "    df = df[df[target]<250000]\n",
    "    return df\n",
    "\n",
    "def prepare(df:pd.DataFrame, fit: bool = False)->pd.DataFrame:\n",
    "    \"Prepare a raw dataframe, returning a prepare DataFrame\"\n",
    "    \n",
    "    \n",
    "    if fit:\n",
    "        dv = DictVectorizer()\n",
    "        scaler = RobustScaler().set_output(transform=\"pandas\")\n",
    "        df_scaled = scaler.fit_transform(df[numerical])\n",
    "        \n",
    "        dicts = df[categorical].to_dict(orient='records')\n",
    "        dv = DictVectorizer()\n",
    "        ohe = pd.DataFrame(dv.fit_transform(dicts).todense(), columns=dv.feature_names_)\n",
    "         \n",
    "        df_prepare = pd.concat([ohe,df_scaled,df[target]], axis=1)\n",
    "        \n",
    "        #dump_pickle(dv,'../data/preprocess/dv.pkl')\n",
    "        #dump_pickle(scaler,'../data/preprocess/scaler.pkl')\n",
    "        return df_prepare\n",
    "        \n",
    "    else:\n",
    "        dv = load_pickle(\"../data/preprocess/dv.pkl\")\n",
    "        scaler = load_pickle(\"../data/preprocess/scaler.pkl\")\n",
    "        \n",
    "        df_scaled = scaler.transform(df[numerical])\n",
    "        \n",
    "        dicts = df[categorical].to_dict(orient='records')\n",
    "        ohe = pd.DataFrame(dv.transform(dicts).todense(), columns=dv.feature_names_)\n",
    "\n",
    "        df_prepare = pd.concat([ohe,df_scaled,df[target]], axis=1)\n",
    "        return df_prepare\n",
    "    \n",
    "    \n",
    "def run(df_train:pd.DataFrame, df_test:pd.DataFrame,num_trials=100):\n",
    "    \n",
    "    X_train = df_train.drop(columns=target)\n",
    "    X_test = df_test.drop(columns=target)\n",
    "    \n",
    "    y_train = df_train[target].values\n",
    "    y_test = df_test[target].values\n",
    "\n",
    "    def objective(params):\n",
    "        \n",
    "        xgb_model = xgb.XGBRegressor(**params)\n",
    "        xgb_model.fit(X_train, y_train)\n",
    "        y_pred = xgb_model.predict(X_test)\n",
    "        rmse = mean_squared_error(y_test, y_pred, squared=False)\n",
    "\n",
    "        return {'loss': rmse, 'status': STATUS_OK}\n",
    "\n",
    "    search_space = {\n",
    "        'max_depth': scope.int(hp.quniform('max_depth', 4, 100, 1)),\n",
    "        'learning_rate': hp.loguniform('learning_rate', -3, 0),\n",
    "        'reg_alpha': hp.loguniform('reg_alpha', -5, -1),\n",
    "        'reg_lambda': hp.loguniform('reg_lambda', -6, -1),\n",
    "        'min_child_weight': hp.loguniform('min_child_weight', -1, 3),\n",
    "        'objective': 'reg:linear',\n",
    "        'seed': 42\n",
    "    }\n",
    "\n",
    "    rstate = np.random.default_rng(42)  # for reproducible results\n",
    "    fmin(\n",
    "        fn=objective,\n",
    "        space=search_space,\n",
    "        algo=tpe.suggest,\n",
    "        max_evals=num_trials,\n",
    "        trials=Trials(),\n",
    "        rstate=rstate\n",
    "    )\n",
    "\n",
    "\n"
   ]
  },
  {
   "cell_type": "code",
   "execution_count": 46,
   "metadata": {},
   "outputs": [],
   "source": [
    "raw_salaries = read('ds_salaries.csv')\n"
   ]
  },
  {
   "cell_type": "code",
   "execution_count": 38,
   "metadata": {},
   "outputs": [
    {
     "data": {
      "text/plain": [
       "work_year             0\n",
       "experience_level      0\n",
       "employment_type       0\n",
       "job_title             0\n",
       "salary                0\n",
       "salary_currency       0\n",
       "salary_in_usd         0\n",
       "employee_residence    0\n",
       "remote_ratio          0\n",
       "company_location      0\n",
       "company_size          0\n",
       "dtype: int64"
      ]
     },
     "execution_count": 38,
     "metadata": {},
     "output_type": "execute_result"
    }
   ],
   "source": [
    "raw_salaries.isnull().sum()"
   ]
  },
  {
   "cell_type": "code",
   "execution_count": 39,
   "metadata": {},
   "outputs": [
    {
     "data": {
      "text/plain": [
       "(3570, 11)"
      ]
     },
     "execution_count": 39,
     "metadata": {},
     "output_type": "execute_result"
    }
   ],
   "source": [
    "raw_salaries.shape"
   ]
  },
  {
   "cell_type": "code",
   "execution_count": 40,
   "metadata": {},
   "outputs": [
    {
     "data": {
      "text/html": [
       "<div>\n",
       "<style scoped>\n",
       "    .dataframe tbody tr th:only-of-type {\n",
       "        vertical-align: middle;\n",
       "    }\n",
       "\n",
       "    .dataframe tbody tr th {\n",
       "        vertical-align: top;\n",
       "    }\n",
       "\n",
       "    .dataframe thead th {\n",
       "        text-align: right;\n",
       "    }\n",
       "</style>\n",
       "<table border=\"1\" class=\"dataframe\">\n",
       "  <thead>\n",
       "    <tr style=\"text-align: right;\">\n",
       "      <th></th>\n",
       "      <th>work_year</th>\n",
       "      <th>experience_level</th>\n",
       "      <th>employment_type</th>\n",
       "      <th>job_title</th>\n",
       "      <th>salary</th>\n",
       "      <th>salary_currency</th>\n",
       "      <th>salary_in_usd</th>\n",
       "      <th>employee_residence</th>\n",
       "      <th>remote_ratio</th>\n",
       "      <th>company_location</th>\n",
       "      <th>company_size</th>\n",
       "    </tr>\n",
       "  </thead>\n",
       "  <tbody>\n",
       "    <tr>\n",
       "      <th>2298</th>\n",
       "      <td>2022</td>\n",
       "      <td>Senior</td>\n",
       "      <td>Full-time</td>\n",
       "      <td>Data Science</td>\n",
       "      <td>205000</td>\n",
       "      <td>USD</td>\n",
       "      <td>205000</td>\n",
       "      <td>US</td>\n",
       "      <td>Full-Remote</td>\n",
       "      <td>US</td>\n",
       "      <td>MEDIUM</td>\n",
       "    </tr>\n",
       "    <tr>\n",
       "      <th>2787</th>\n",
       "      <td>2022</td>\n",
       "      <td>Senior</td>\n",
       "      <td>Full-time</td>\n",
       "      <td>Data Engineering</td>\n",
       "      <td>144000</td>\n",
       "      <td>USD</td>\n",
       "      <td>144000</td>\n",
       "      <td>US</td>\n",
       "      <td>Full-Remote</td>\n",
       "      <td>US</td>\n",
       "      <td>MEDIUM</td>\n",
       "    </tr>\n",
       "    <tr>\n",
       "      <th>470</th>\n",
       "      <td>2023</td>\n",
       "      <td>Mid/Intermediate level</td>\n",
       "      <td>Full-time</td>\n",
       "      <td>Data Engineering</td>\n",
       "      <td>75000</td>\n",
       "      <td>USD</td>\n",
       "      <td>75000</td>\n",
       "      <td>US</td>\n",
       "      <td>On-Site</td>\n",
       "      <td>US</td>\n",
       "      <td>MEDIUM</td>\n",
       "    </tr>\n",
       "    <tr>\n",
       "      <th>1489</th>\n",
       "      <td>2023</td>\n",
       "      <td>Senior</td>\n",
       "      <td>Full-time</td>\n",
       "      <td>Data Science</td>\n",
       "      <td>183500</td>\n",
       "      <td>USD</td>\n",
       "      <td>183500</td>\n",
       "      <td>US</td>\n",
       "      <td>Full-Remote</td>\n",
       "      <td>US</td>\n",
       "      <td>MEDIUM</td>\n",
       "    </tr>\n",
       "    <tr>\n",
       "      <th>1317</th>\n",
       "      <td>2023</td>\n",
       "      <td>Senior</td>\n",
       "      <td>Full-time</td>\n",
       "      <td>Data Science</td>\n",
       "      <td>216100</td>\n",
       "      <td>USD</td>\n",
       "      <td>216100</td>\n",
       "      <td>US</td>\n",
       "      <td>On-Site</td>\n",
       "      <td>US</td>\n",
       "      <td>MEDIUM</td>\n",
       "    </tr>\n",
       "  </tbody>\n",
       "</table>\n",
       "</div>"
      ],
      "text/plain": [
       "     work_year        experience_level employment_type         job_title  \\\n",
       "2298      2022                  Senior       Full-time      Data Science   \n",
       "2787      2022                  Senior       Full-time  Data Engineering   \n",
       "470       2023  Mid/Intermediate level       Full-time  Data Engineering   \n",
       "1489      2023                  Senior       Full-time      Data Science   \n",
       "1317      2023                  Senior       Full-time      Data Science   \n",
       "\n",
       "      salary salary_currency  salary_in_usd employee_residence remote_ratio  \\\n",
       "2298  205000             USD         205000                 US  Full-Remote   \n",
       "2787  144000             USD         144000                 US  Full-Remote   \n",
       "470    75000             USD          75000                 US      On-Site   \n",
       "1489  183500             USD         183500                 US  Full-Remote   \n",
       "1317  216100             USD         216100                 US      On-Site   \n",
       "\n",
       "     company_location company_size  \n",
       "2298               US       MEDIUM  \n",
       "2787               US       MEDIUM  \n",
       "470                US       MEDIUM  \n",
       "1489               US       MEDIUM  \n",
       "1317               US       MEDIUM  "
      ]
     },
     "execution_count": 40,
     "metadata": {},
     "output_type": "execute_result"
    }
   ],
   "source": [
    "raw_salaries.sample(5)"
   ]
  },
  {
   "cell_type": "code",
   "execution_count": 47,
   "metadata": {},
   "outputs": [],
   "source": [
    "prepare_salaries = prepare(raw_salaries,fit=True).dropna()\n"
   ]
  },
  {
   "cell_type": "code",
   "execution_count": 29,
   "metadata": {},
   "outputs": [
    {
     "data": {
      "text/plain": [
       "<Axes: ylabel='Frequency'>"
      ]
     },
     "execution_count": 29,
     "metadata": {},
     "output_type": "execute_result"
    },
    {
     "data": {
      "image/png": "[encoded data removed]",
      "text/plain": [
       "<Figure size 640x480 with 1 Axes>"
      ]
     },
     "metadata": {},
     "output_type": "display_data"
    }
   ],
   "source": [
    "prepare_salaries[target].plot.hist(bins=20)"
   ]
  },
  {
   "cell_type": "code",
   "execution_count": 30,
   "metadata": {},
   "outputs": [
    {
     "data": {
      "text/plain": [
       "52654.92159725733"
      ]
     },
     "execution_count": 30,
     "metadata": {},
     "output_type": "execute_result"
    }
   ],
   "source": [
    "prepare_salaries[target].std()"
   ]
  },
  {
   "cell_type": "code",
   "execution_count": 48,
   "metadata": {},
   "outputs": [
    {
     "name": "stdout",
     "output_type": "stream",
     "text": [
      "[23:52:30] WARNING: C:\\buildkite-agent\\builds\\buildkite-windows-cpu-autoscaling-group-i-07593ffd91cd9da33-1\\xgboost\\xgboost-ci-windows\\src\\objective\\regression_obj.cu:213: reg:linear is now deprecated in favor of reg:squarederror.\n",
      "[23:52:31] WARNING: C:\\buildkite-agent\\builds\\buildkite-windows-cpu-autoscaling-group-i-07593ffd91cd9da33-1\\xgboost\\xgboost-ci-windows\\src\\objective\\regression_obj.cu:213: reg:linear is now deprecated in favor of reg:squarederror.\n",
      "[23:52:31] WARNING: C:\\buildkite-agent\\builds\\buildkite-windows-cpu-autoscaling-group-i-07593ffd91cd9da33-1\\xgboost\\xgboost-ci-windows\\src\\objective\\regression_obj.cu:213: reg:linear is now deprecated in favor of reg:squarederror.\n",
      "[23:52:32] WARNING: C:\\buildkite-agent\\builds\\buildkite-windows-cpu-autoscaling-group-i-07593ffd91cd9da33-1\\xgboost\\xgboost-ci-windows\\src\\objective\\regression_obj.cu:213: reg:linear is now deprecated in favor of reg:squarederror.\n",
      "[23:52:33] WARNING: C:\\buildkite-agent\\builds\\buildkite-windows-cpu-autoscaling-group-i-07593ffd91cd9da33-1\\xgboost\\xgboost-ci-windows\\src\\objective\\regression_obj.cu:213: reg:linear is now deprecated in favor of reg:squarederror.\n",
      "[23:52:34] WARNING: C:\\buildkite-agent\\builds\\buildkite-windows-cpu-autoscaling-group-i-07593ffd91cd9da33-1\\xgboost\\xgboost-ci-windows\\src\\objective\\regression_obj.cu:213: reg:linear is now deprecated in favor of reg:squarederror.\n",
      "[23:52:35] WARNING: C:\\buildkite-agent\\builds\\buildkite-windows-cpu-autoscaling-group-i-07593ffd91cd9da33-1\\xgboost\\xgboost-ci-windows\\src\\objective\\regression_obj.cu:213: reg:linear is now deprecated in favor of reg:squarederror.\n",
      "[23:52:36] WARNING: C:\\buildkite-agent\\builds\\buildkite-windows-cpu-autoscaling-group-i-07593ffd91cd9da33-1\\xgboost\\xgboost-ci-windows\\src\\objective\\regression_obj.cu:213: reg:linear is now deprecated in favor of reg:squarederror.\n",
      "[23:52:37] WARNING: C:\\buildkite-agent\\builds\\buildkite-windows-cpu-autoscaling-group-i-07593ffd91cd9da33-1\\xgboost\\xgboost-ci-windows\\src\\objective\\regression_obj.cu:213: reg:linear is now deprecated in favor of reg:squarederror.\n",
      "[23:52:37] WARNING: C:\\buildkite-agent\\builds\\buildkite-windows-cpu-autoscaling-group-i-07593ffd91cd9da33-1\\xgboost\\xgboost-ci-windows\\src\\objective\\regression_obj.cu:213: reg:linear is now deprecated in favor of reg:squarederror.\n",
      "100%|██████████| 10/10 [00:08<00:00,  1.23trial/s, best loss: 47418.30807658689]\n"
     ]
    }
   ],
   "source": [
    "run(prepare_salaries,prepare_salaries,10)"
   ]
  },
  {
   "cell_type": "code",
   "execution_count": 159,
   "metadata": {},
   "outputs": [
    {
     "data": {
      "text/plain": [
       "0.7285142081955036"
      ]
     },
     "execution_count": 159,
     "metadata": {},
     "output_type": "execute_result"
    }
   ],
   "source": [
    "train(prepare_data_2015,prepare_data_2015)"
   ]
  },
  {
   "cell_type": "code",
   "execution_count": 160,
   "metadata": {},
   "outputs": [
    {
     "data": {
      "text/plain": [
       "0.7078153497678884"
      ]
     },
     "execution_count": 160,
     "metadata": {},
     "output_type": "execute_result"
    }
   ],
   "source": [
    "train(prepare_data_2015,prepare_data_2016)"
   ]
  },
  {
   "cell_type": "code",
   "execution_count": 22,
   "metadata": {},
   "outputs": [
    {
     "data": {
      "text/plain": [
       "<Axes: ylabel='Frequency'>"
      ]
     },
     "execution_count": 22,
     "metadata": {},
     "output_type": "execute_result"
    },
    {
     "data": {
      "image/png": "[encoded data removed]",
      "text/plain": [
       "<Figure size 640x480 with 1 Axes>"
      ]
     },
     "metadata": {},
     "output_type": "display_data"
    }
   ],
   "source": [
    "df_train['happiness_score'].plot.hist(bins=15)"
   ]
  },
  {
   "cell_type": "code",
   "execution_count": 100,
   "metadata": {},
   "outputs": [
    {
     "ename": "KeyError",
     "evalue": "\"['country', 'region'] not in index\"",
     "output_type": "error",
     "traceback": [
      "\u001b[1;31m---------------------------------------------------------------------------\u001b[0m",
      "\u001b[1;31mKeyError\u001b[0m                                  Traceback (most recent call last)",
      "Cell \u001b[1;32mIn[100], line 1\u001b[0m\n\u001b[1;32m----> 1\u001b[0m train(prepare_data_2015,prepare_data_2015)\n",
      "Cell \u001b[1;32mIn[86], line 68\u001b[0m, in \u001b[0;36mtrain\u001b[1;34m(df_train, df_test)\u001b[0m\n\u001b[0;32m     65\u001b[0m features \u001b[39m=\u001b[39m categorical\u001b[39m+\u001b[39m numerical\n\u001b[0;32m     67\u001b[0m dv \u001b[39m=\u001b[39m DictVectorizer()   \n\u001b[1;32m---> 68\u001b[0m train_dicts \u001b[39m=\u001b[39m df_train[features]\u001b[39m.\u001b[39mto_dict(orient\u001b[39m=\u001b[39m\u001b[39m'\u001b[39m\u001b[39mrecords\u001b[39m\u001b[39m'\u001b[39m)\n\u001b[0;32m     69\u001b[0m test_dicts \u001b[39m=\u001b[39m df_test[features]\u001b[39m.\u001b[39mto_dict(orient\u001b[39m=\u001b[39m\u001b[39m'\u001b[39m\u001b[39mrecords\u001b[39m\u001b[39m'\u001b[39m)\n\u001b[0;32m     71\u001b[0m X_train \u001b[39m=\u001b[39m dv\u001b[39m.\u001b[39mfit_transform(train_dicts)\n",
      "File \u001b[1;32mc:\\Users\\user\\.virtualenvs\\mlflow_on_aws-54ZSggmN\\Lib\\site-packages\\pandas\\core\\frame.py:3767\u001b[0m, in \u001b[0;36mDataFrame.__getitem__\u001b[1;34m(self, key)\u001b[0m\n\u001b[0;32m   3765\u001b[0m     \u001b[39mif\u001b[39;00m is_iterator(key):\n\u001b[0;32m   3766\u001b[0m         key \u001b[39m=\u001b[39m \u001b[39mlist\u001b[39m(key)\n\u001b[1;32m-> 3767\u001b[0m     indexer \u001b[39m=\u001b[39m \u001b[39mself\u001b[39;49m\u001b[39m.\u001b[39;49mcolumns\u001b[39m.\u001b[39;49m_get_indexer_strict(key, \u001b[39m\"\u001b[39;49m\u001b[39mcolumns\u001b[39;49m\u001b[39m\"\u001b[39;49m)[\u001b[39m1\u001b[39m]\n\u001b[0;32m   3769\u001b[0m \u001b[39m# take() does not accept boolean indexers\u001b[39;00m\n\u001b[0;32m   3770\u001b[0m \u001b[39mif\u001b[39;00m \u001b[39mgetattr\u001b[39m(indexer, \u001b[39m\"\u001b[39m\u001b[39mdtype\u001b[39m\u001b[39m\"\u001b[39m, \u001b[39mNone\u001b[39;00m) \u001b[39m==\u001b[39m \u001b[39mbool\u001b[39m:\n",
      "File \u001b[1;32mc:\\Users\\user\\.virtualenvs\\mlflow_on_aws-54ZSggmN\\Lib\\site-packages\\pandas\\core\\indexes\\base.py:5876\u001b[0m, in \u001b[0;36mIndex._get_indexer_strict\u001b[1;34m(self, key, axis_name)\u001b[0m\n\u001b[0;32m   5873\u001b[0m \u001b[39melse\u001b[39;00m:\n\u001b[0;32m   5874\u001b[0m     keyarr, indexer, new_indexer \u001b[39m=\u001b[39m \u001b[39mself\u001b[39m\u001b[39m.\u001b[39m_reindex_non_unique(keyarr)\n\u001b[1;32m-> 5876\u001b[0m \u001b[39mself\u001b[39;49m\u001b[39m.\u001b[39;49m_raise_if_missing(keyarr, indexer, axis_name)\n\u001b[0;32m   5878\u001b[0m keyarr \u001b[39m=\u001b[39m \u001b[39mself\u001b[39m\u001b[39m.\u001b[39mtake(indexer)\n\u001b[0;32m   5879\u001b[0m \u001b[39mif\u001b[39;00m \u001b[39misinstance\u001b[39m(key, Index):\n\u001b[0;32m   5880\u001b[0m     \u001b[39m# GH 42790 - Preserve name from an Index\u001b[39;00m\n",
      "File \u001b[1;32mc:\\Users\\user\\.virtualenvs\\mlflow_on_aws-54ZSggmN\\Lib\\site-packages\\pandas\\core\\indexes\\base.py:5938\u001b[0m, in \u001b[0;36mIndex._raise_if_missing\u001b[1;34m(self, key, indexer, axis_name)\u001b[0m\n\u001b[0;32m   5935\u001b[0m     \u001b[39mraise\u001b[39;00m \u001b[39mKeyError\u001b[39;00m(\u001b[39mf\u001b[39m\u001b[39m\"\u001b[39m\u001b[39mNone of [\u001b[39m\u001b[39m{\u001b[39;00mkey\u001b[39m}\u001b[39;00m\u001b[39m] are in the [\u001b[39m\u001b[39m{\u001b[39;00maxis_name\u001b[39m}\u001b[39;00m\u001b[39m]\u001b[39m\u001b[39m\"\u001b[39m)\n\u001b[0;32m   5937\u001b[0m not_found \u001b[39m=\u001b[39m \u001b[39mlist\u001b[39m(ensure_index(key)[missing_mask\u001b[39m.\u001b[39mnonzero()[\u001b[39m0\u001b[39m]]\u001b[39m.\u001b[39munique())\n\u001b[1;32m-> 5938\u001b[0m \u001b[39mraise\u001b[39;00m \u001b[39mKeyError\u001b[39;00m(\u001b[39mf\u001b[39m\u001b[39m\"\u001b[39m\u001b[39m{\u001b[39;00mnot_found\u001b[39m}\u001b[39;00m\u001b[39m not in index\u001b[39m\u001b[39m\"\u001b[39m)\n",
      "\u001b[1;31mKeyError\u001b[0m: \"['country', 'region'] not in index\""
     ]
    }
   ],
   "source": [
    "train(prepare_data_2015,prepare_data_2015)"
   ]
  },
  {
   "cell_type": "code",
   "execution_count": 4,
   "metadata": {},
   "outputs": [
    {
     "data": {
      "text/plain": [
       "0.8174997785535861"
      ]
     },
     "execution_count": 4,
     "metadata": {},
     "output_type": "execute_result"
    }
   ],
   "source": [
    "\n"
   ]
  },
  {
   "cell_type": "code",
   "execution_count": 17,
   "metadata": {},
   "outputs": [
    {
     "data": {
      "text/html": [
       "<div>\n",
       "<style scoped>\n",
       "    .dataframe tbody tr th:only-of-type {\n",
       "        vertical-align: middle;\n",
       "    }\n",
       "\n",
       "    .dataframe tbody tr th {\n",
       "        vertical-align: top;\n",
       "    }\n",
       "\n",
       "    .dataframe thead th {\n",
       "        text-align: right;\n",
       "    }\n",
       "</style>\n",
       "<table border=\"1\" class=\"dataframe\">\n",
       "  <thead>\n",
       "    <tr style=\"text-align: right;\">\n",
       "      <th></th>\n",
       "      <th>Family</th>\n",
       "      <th>Health (Life Expectancy)</th>\n",
       "      <th>Freedom</th>\n",
       "    </tr>\n",
       "  </thead>\n",
       "  <tbody>\n",
       "    <tr>\n",
       "      <th>0</th>\n",
       "      <td>1.34951</td>\n",
       "      <td>0.94143</td>\n",
       "      <td>0.66557</td>\n",
       "    </tr>\n",
       "    <tr>\n",
       "      <th>1</th>\n",
       "      <td>1.40223</td>\n",
       "      <td>0.94784</td>\n",
       "      <td>0.62877</td>\n",
       "    </tr>\n",
       "    <tr>\n",
       "      <th>2</th>\n",
       "      <td>1.36058</td>\n",
       "      <td>0.87464</td>\n",
       "      <td>0.64938</td>\n",
       "    </tr>\n",
       "    <tr>\n",
       "      <th>3</th>\n",
       "      <td>1.33095</td>\n",
       "      <td>0.88521</td>\n",
       "      <td>0.66973</td>\n",
       "    </tr>\n",
       "    <tr>\n",
       "      <th>4</th>\n",
       "      <td>1.32261</td>\n",
       "      <td>0.90563</td>\n",
       "      <td>0.63297</td>\n",
       "    </tr>\n",
       "    <tr>\n",
       "      <th>...</th>\n",
       "      <td>...</td>\n",
       "      <td>...</td>\n",
       "      <td>...</td>\n",
       "    </tr>\n",
       "    <tr>\n",
       "      <th>153</th>\n",
       "      <td>0.77370</td>\n",
       "      <td>0.42864</td>\n",
       "      <td>0.59201</td>\n",
       "    </tr>\n",
       "    <tr>\n",
       "      <th>154</th>\n",
       "      <td>0.35386</td>\n",
       "      <td>0.31910</td>\n",
       "      <td>0.48450</td>\n",
       "    </tr>\n",
       "    <tr>\n",
       "      <th>155</th>\n",
       "      <td>0.47489</td>\n",
       "      <td>0.72193</td>\n",
       "      <td>0.15684</td>\n",
       "    </tr>\n",
       "    <tr>\n",
       "      <th>156</th>\n",
       "      <td>0.41587</td>\n",
       "      <td>0.22396</td>\n",
       "      <td>0.11850</td>\n",
       "    </tr>\n",
       "    <tr>\n",
       "      <th>157</th>\n",
       "      <td>0.13995</td>\n",
       "      <td>0.28443</td>\n",
       "      <td>0.36453</td>\n",
       "    </tr>\n",
       "  </tbody>\n",
       "</table>\n",
       "<p>158 rows × 3 columns</p>\n",
       "</div>"
      ],
      "text/plain": [
       "      Family  Health (Life Expectancy)  Freedom\n",
       "0    1.34951                   0.94143  0.66557\n",
       "1    1.40223                   0.94784  0.62877\n",
       "2    1.36058                   0.87464  0.64938\n",
       "3    1.33095                   0.88521  0.66973\n",
       "4    1.32261                   0.90563  0.63297\n",
       "..       ...                       ...      ...\n",
       "153  0.77370                   0.42864  0.59201\n",
       "154  0.35386                   0.31910  0.48450\n",
       "155  0.47489                   0.72193  0.15684\n",
       "156  0.41587                   0.22396  0.11850\n",
       "157  0.13995                   0.28443  0.36453\n",
       "\n",
       "[158 rows x 3 columns]"
      ]
     },
     "execution_count": 17,
     "metadata": {},
     "output_type": "execute_result"
    }
   ],
   "source": [
    "\n",
    "lr = LinearRegression()\n",
    "lr.fit(X_train, y_train)\n",
    "\n",
    "y_pred = lr.predict(X_test)\n",
    "\n",
    "mse =mean_squared_error(y_test, y_pred, squared=False)"
   ]
  },
  {
   "cell_type": "code",
   "execution_count": 14,
   "metadata": {},
   "outputs": [
    {
     "data": {
      "text/plain": [
       "Index(['Country', 'Region', 'Happiness Rank', 'Happiness Score',\n",
       "       'Standard Error', 'Economy (GDP per Capita)', 'Family',\n",
       "       'Health (Life Expectancy)', 'Freedom', 'Trust (Government Corruption)',\n",
       "       'Generosity', 'Dystopia Residual'],\n",
       "      dtype='object')"
      ]
     },
     "execution_count": 14,
     "metadata": {},
     "output_type": "execute_result"
    }
   ],
   "source": [
    "df.columns"
   ]
  }
 ],
 "metadata": {
  "kernelspec": {
   "display_name": "mlflow_on_aws-54ZSggmN",
   "language": "python",
   "name": "python3"
  },
  "language_info": {
   "codemirror_mode": {
    "name": "ipython",
    "version": 3
   },
   "file_extension": ".py",
   "mimetype": "text/x-python",
   "name": "python",
   "nbconvert_exporter": "python",
   "pygments_lexer": "ipython3",
   "version": "3.11.2"
  },
  "orig_nbformat": 4
 },
 "nbformat": 4,
 "nbformat_minor": 2
}
